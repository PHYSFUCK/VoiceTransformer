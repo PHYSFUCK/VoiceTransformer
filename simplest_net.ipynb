{
 "cells": [
  {
   "cell_type": "code",
   "execution_count": 47,
   "id": "4d79ca2f",
   "metadata": {},
   "outputs": [],
   "source": [
    "import numpy as np\n",
    "import matplotlib.pyplot as plt\n",
    "import torch\n",
    "import torch.nn as nn\n",
    "from torch.utils.data import Dataset, DataLoader\n",
    "from tqdm.notebook import tqdm\n",
    "import librosa\n",
    "import os\n",
    "import torch.optim as optim\n",
    "from torch.optim import lr_scheduler"
   ]
  },
  {
   "cell_type": "code",
   "execution_count": 31,
   "id": "7ece2afc",
   "metadata": {},
   "outputs": [],
   "source": [
    "RANDOM_SEED=74\n",
    "torch.manual_seed(seed=RANDOM_SEED)\n",
    "np.random.seed(RANDOM_SEED)"
   ]
  },
  {
   "cell_type": "markdown",
   "id": "00c8fdd4",
   "metadata": {},
   "source": [
    "# Audio Preprocessing"
   ]
  },
  {
   "cell_type": "code",
   "execution_count": 6,
   "id": "c7048110",
   "metadata": {},
   "outputs": [],
   "source": [
    "def LoadFile(file_path, duration):\n",
    "    #LOADS THE FILE \n",
    "    audio, sr = librosa.load(file_path, duration=duration)\n",
    "    \n",
    "    return audio"
   ]
  },
  {
   "cell_type": "code",
   "execution_count": null,
   "id": "1da83acc",
   "metadata": {},
   "outputs": [],
   "source": [
    "def GetSpec(audio, hop_size, frame_size):\n",
    "    spec = librosa.stft(audio, hop_length=hop_size, n_fft=frame_size)\n",
    "    spec_reals = spec.real\n",
    "    spec_imag = spec.imag\n",
    "    spec_reals = spec_reals[np.newaxis, ...]\n",
    "    spec_imag = spec_imag[np.newaxis, ...]\n",
    "    data = np.concatenate((spec_reals, spec_imag), axis=0)\n",
    "    \n",
    "    return data"
   ]
  },
  {
   "cell_type": "code",
   "execution_count": 8,
   "id": "1ec91691",
   "metadata": {},
   "outputs": [],
   "source": [
    "def NormaliseData(data, db_data):\n",
    "\n",
    "    sig = np.std(db_data)\n",
    "    \n",
    "    #print(sig)\n",
    "    norm_data = data / sig\n",
    "    #print(norm_data.shape)\n",
    "    \n",
    "    return norm_data, sig"
   ]
  },
  {
   "cell_type": "code",
   "execution_count": 9,
   "id": "01a17ce1",
   "metadata": {},
   "outputs": [],
   "source": [
    "def ApplyRightPadding(audio_array, size):\n",
    "    padding = np.array([0 for _ in range(size)])\n",
    "    audio_array = np.concatenate((audio_array, padding), axis=0)\n",
    "    \n",
    "    return audio_array"
   ]
  },
  {
   "cell_type": "code",
   "execution_count": 10,
   "id": "6ed3bb34",
   "metadata": {},
   "outputs": [],
   "source": [
    "def DenormalizeData(spec, sig):\n",
    "    original_spec = spec * sig \n",
    "    \n",
    "    return original_spec\n",
    "    "
   ]
  },
  {
   "cell_type": "code",
   "execution_count": 11,
   "id": "deea72ca",
   "metadata": {},
   "outputs": [],
   "source": [
    "def FreqToDB(spec):\n",
    "    real_part = spec[0]\n",
    "    imag_part = spec[1]\n",
    "    db_real_spec = librosa.amplitude_to_db(real_part)\n",
    "    db_imag_spec = librosa.amplitude_to_db(imag_part)\n",
    "    \n",
    "    return db_real_spec, db_imag_spec\n",
    "    "
   ]
  },
  {
   "cell_type": "code",
   "execution_count": 12,
   "id": "aea2e886",
   "metadata": {},
   "outputs": [],
   "source": [
    "def ISTFT(spec, hop_size):\n",
    "    audio = librosa.istft(spec, hop_length=hop_size)\n",
    "    \n",
    "    return audio"
   ]
  },
  {
   "cell_type": "code",
   "execution_count": 13,
   "id": "b0882a29",
   "metadata": {},
   "outputs": [],
   "source": [
    "def SaveData(data, save_dir, file_name):\n",
    "    np.save(os.path.join(save_dir, file_name), data)"
   ]
  },
  {
   "cell_type": "code",
   "execution_count": 16,
   "id": "92d6ada2",
   "metadata": {},
   "outputs": [],
   "source": [
    "def PreprocessAudioData(path_to_dir, duration, sr, frame_size, hop_size, save_dir):\n",
    "    data = []\n",
    "    data_db = []\n",
    "    \n",
    "    for root, _ , files in os.walk(path_to_dir):\n",
    "        for file in files:\n",
    "            path = os.path.join(root, file)\n",
    "            audio = LoadFile(path, duration)\n",
    "            \n",
    "            if audio.shape[0] < duration * sr:\n",
    "                size = duration * sr - audio.shape[0]\n",
    "                audio = ApplyRightPadding(audio, size)\n",
    "            \n",
    "            data_sample = GetSpec(audio, HOP_SIZE, FRAME_SIZE)\n",
    "            data.append(data_sample)\n",
    "            real_db, imag_db = FreqToDB(data_sample)\n",
    "            real_db = real_db[np.newaxis, ...]\n",
    "            imag_db = imag_db[np.newaxis, ...]\n",
    "            data_sample_db = np.concatenate((real_db, imag_db), axis=0)\n",
    "            data_db.append(data_sample_db)\n",
    "            \n",
    "    data = np.array(data)\n",
    "    data_db = np.array(data_db)\n",
    "    #data, sigma = NormaliseData(data, data_db)\n",
    "    #SaveData(data, save_dir, 'data.npy')\n",
    "    \n",
    "    return data, data_db"
   ]
  },
  {
   "cell_type": "code",
   "execution_count": 15,
   "id": "9ec850fb",
   "metadata": {},
   "outputs": [],
   "source": [
    "def ReconstructSignal(spec, hop_size, sig):\n",
    "    original_spec = DenormalizeData(spec, sig)\n",
    "    original_spec = original_spec[0] + 1j * original_spec[1]\n",
    "    audio = ISTFT(original_spec, hop_size=hop_size)\n",
    "    return audio"
   ]
  },
  {
   "cell_type": "code",
   "execution_count": 29,
   "id": "8fa95bd8",
   "metadata": {},
   "outputs": [],
   "source": [
    "def FindAllDir(root):\n",
    "    dirs = []\n",
    "    for root, direct, files in os.walk(root):\n",
    "        dirs.append(direct)\n",
    "    \n",
    "    return dirs"
   ]
  },
  {
   "cell_type": "code",
   "execution_count": 36,
   "id": "55185bd7",
   "metadata": {},
   "outputs": [],
   "source": [
    "DURATION = 2\n",
    "FRAME_SIZE = 512\n",
    "HOP_SIZE = 256\n",
    "SAMPLE_RATE = 22050\n",
    "PATH_TO_DIR = './vcc2018_training'\n",
    "SAVE_DIR = './save_dir'"
   ]
  },
  {
   "cell_type": "code",
   "execution_count": 43,
   "id": "51acbc54",
   "metadata": {},
   "outputs": [
    {
     "name": "stdout",
     "output_type": "stream",
     "text": [
      "16.559638690716934\n",
      "(12, 81, 2, 257, 173)\n"
     ]
    }
   ],
   "source": [
    "dirs = FindAllDir(PATH_TO_DIR)[0][1:]\n",
    "data = []\n",
    "data_db = []\n",
    "for dir in dirs:\n",
    "    PATH = os.path.join(PATH_TO_DIR, dir)\n",
    "    bunch, bunch_db = PreprocessAudioData(PATH, DURATION, SAMPLE_RATE, FRAME_SIZE, HOP_SIZE, SAVE_DIR)\n",
    "    data.append(bunch)\n",
    "    data_db.append(bunch_db)\n",
    "data = np.array(data)\n",
    "data_db = np.array(data_db)\n",
    "data, SIGMA = NormaliseData(data, data_db)\n"
   ]
  },
  {
   "cell_type": "code",
   "execution_count": 44,
   "id": "30d91beb",
   "metadata": {},
   "outputs": [
    {
     "data": {
      "text/plain": [
       "(972, 2, 257, 173)"
      ]
     },
     "execution_count": 44,
     "metadata": {},
     "output_type": "execute_result"
    }
   ],
   "source": [
    "data = data.reshape((972, 2, 257, 173))\n",
    "data.shape"
   ]
  },
  {
   "cell_type": "code",
   "execution_count": 45,
   "id": "8887210f",
   "metadata": {},
   "outputs": [],
   "source": [
    "np.save(os.path.join(SAVE_DIR, 'data'), data)"
   ]
  },
  {
   "cell_type": "markdown",
   "id": "0861f0e2",
   "metadata": {},
   "source": [
    "# Dataset\n"
   ]
  },
  {
   "cell_type": "code",
   "execution_count": 98,
   "id": "16783745",
   "metadata": {},
   "outputs": [],
   "source": [
    "class AudioDataset(Dataset):\n",
    "    def __init__(self, data):\n",
    "        self.x = torch.from_numpy(data).type(torch.FloatTensor)\n",
    "    \n",
    "    def __len__(self):\n",
    "        return self.x.shape[0]\n",
    "    \n",
    "    def __getitem__(self, ind):\n",
    "        return self.x[ind]"
   ]
  },
  {
   "cell_type": "code",
   "execution_count": 99,
   "id": "fbb2e323",
   "metadata": {},
   "outputs": [],
   "source": [
    "from sklearn.model_selection import train_test_split\n",
    "x_train, x_val = train_test_split(data, test_size=0.2, shuffle=True)"
   ]
  },
  {
   "cell_type": "code",
   "execution_count": 100,
   "id": "30360f6e",
   "metadata": {},
   "outputs": [],
   "source": [
    "x_train = AudioDataset(x_train)\n",
    "x_val = AudioDataset(x_val)"
   ]
  },
  {
   "cell_type": "code",
   "execution_count": null,
   "id": "5ab26ccf",
   "metadata": {},
   "outputs": [],
   "source": []
  },
  {
   "cell_type": "code",
   "execution_count": 292,
   "id": "d773e593",
   "metadata": {},
   "outputs": [],
   "source": [
    "BATCH_SIZE = 128\n",
    "\n",
    "train_dataloader = DataLoader(x_train, batch_size=BATCH_SIZE, shuffle=True, drop_last=True, pin_memory=True)\n",
    "val_dataloader = DataLoader(x_val, batch_size=BATCH_SIZE, shuffle=False)"
   ]
  },
  {
   "cell_type": "code",
   "execution_count": 293,
   "id": "a5185a31",
   "metadata": {},
   "outputs": [
    {
     "data": {
      "text/plain": [
       "torch.Size([777, 2, 257, 173])"
      ]
     },
     "execution_count": 293,
     "metadata": {},
     "output_type": "execute_result"
    }
   ],
   "source": [
    "x_train.x.shape"
   ]
  },
  {
   "cell_type": "markdown",
   "id": "a76f06d5",
   "metadata": {},
   "source": [
    "# AutoEncoder Model"
   ]
  },
  {
   "cell_type": "code",
   "execution_count": 294,
   "id": "e254cdab",
   "metadata": {},
   "outputs": [],
   "source": [
    "class Encoder(nn.Module):\n",
    "    def __init__(self, input_size, output_size):\n",
    "        super().__init__()\n",
    "        self.seq1 = nn.Sequential(\n",
    "            nn.Conv2d(in_channels=2, out_channels=16, \n",
    "                      kernel_size=3, stride=2, padding=1),\n",
    "            nn.ReLU(),\n",
    "            nn.BatchNorm2d(num_features=16)\n",
    "        )\n",
    "        self.seq2 = nn.Sequential(\n",
    "            nn.Conv2d(in_channels=16, out_channels=32, \n",
    "                      kernel_size=3, stride=2, padding=1),\n",
    "            nn.ReLU(),\n",
    "            nn.BatchNorm2d(num_features=32)\n",
    "        )\n",
    "        self.seq3 = nn.Sequential(\n",
    "            nn.Conv2d(in_channels=32, out_channels=64, \n",
    "                      kernel_size=3, stride=2, padding=1),\n",
    "            nn.ReLU(),\n",
    "            nn.BatchNorm2d(num_features=64)\n",
    "        )\n",
    "        self.seq4 = nn.Sequential(\n",
    "            nn.Conv2d(in_channels=64, out_channels=128, \n",
    "                      kernel_size=3, stride=2, padding=1),\n",
    "            nn.ReLU(),\n",
    "            nn.BatchNorm2d(num_features=128)\n",
    "        )\n",
    "        self.flat = nn.Flatten()\n",
    "            #Bottleneck\n",
    "        self.lin = nn.Linear(in_features=17*11*128, out_features=output_size)\n",
    "            \n",
    "        \n",
    "        \n",
    "    def forward(self, X):\n",
    "        #print('e_original:', X.shape)\n",
    "        X = self.seq1(X)\n",
    "        #print('e_seq1:', X.shape)\n",
    "        X = self.seq2(X)\n",
    "        #print('e_seq2:', X.shape)\n",
    "        X = self.seq3(X)\n",
    "        #print('e_seq3:', X.shape)\n",
    "        X = self.seq4(X)\n",
    "        #print('e_seq4:', X.shape)\n",
    "        X = self.flat(X)\n",
    "        #print('e_flat:', X.shape)\n",
    "        X = self.lin(X)\n",
    "        #print('e_lin:', X.shape)\n",
    "        return X"
   ]
  },
  {
   "cell_type": "code",
   "execution_count": 295,
   "id": "56a09498",
   "metadata": {},
   "outputs": [],
   "source": [
    "class Decoder(nn.Module):\n",
    "    def __init__(self, input_size, output_size):\n",
    "        super().__init__()\n",
    "        self.seq1 = nn.Sequential(\n",
    "            nn.Linear(in_features=input_size, out_features= 17*11*128),\n",
    "            nn.ReLU(),\n",
    "            nn.BatchNorm1d(num_features=17*11*128)\n",
    "        )\n",
    "        self.unflat = nn.Unflatten(dim=1, unflattened_size=(128, 17, 11))\n",
    "        self.seq2 = nn.Sequential(   \n",
    "            nn.ConvTranspose2d(in_channels=128, out_channels=64, \n",
    "                               kernel_size=3, stride=2, padding=1, output_padding=(0, 1)),\n",
    "            nn.ReLU(),\n",
    "            nn.BatchNorm2d(num_features=64)\n",
    "        )\n",
    "        self.seq3 = nn.Sequential(\n",
    "            nn.ConvTranspose2d(in_channels=64, out_channels=32, \n",
    "                               kernel_size=3, stride=2, padding=1, output_padding=(0, 1)),\n",
    "            nn.ReLU(),\n",
    "            nn.BatchNorm2d(num_features=32)\n",
    "        )\n",
    "        self.seq4 = nn.Sequential(\n",
    "            nn.ConvTranspose2d(in_channels=32, out_channels=16, \n",
    "                               kernel_size=3, stride=2, padding=1, output_padding=(0,0)),\n",
    "            nn.ReLU(),\n",
    "            nn.BatchNorm2d(num_features=16)\n",
    "        )\n",
    "        self.conv = nn.ConvTranspose2d(in_channels=16, out_channels=output_size, \n",
    "                               kernel_size=3, stride=2, padding=1, output_padding=(0,0))\n",
    "            \n",
    "        \n",
    "        \n",
    "    def forward(self, X):\n",
    "        #print('after encoder:', X.shape)\n",
    "        X = self.seq1(X)\n",
    "        #print('d_seq1:', X.shape)\n",
    "        X = self.unflat(X)\n",
    "        #print('d_unflat:', X.shape)\n",
    "        X = self.seq2(X)\n",
    "        #print('d_seq2:', X.shape)\n",
    "        X = self.seq3(X)\n",
    "        #print('d_seq3:', X.shape)\n",
    "        X = self.seq4(X)\n",
    "        #print('d_seq4:', X.shape)\n",
    "        X = self.conv(X)\n",
    "        #print('result:', X.shape)\n",
    "        return X"
   ]
  },
  {
   "cell_type": "code",
   "execution_count": 296,
   "id": "bfb44477",
   "metadata": {},
   "outputs": [],
   "source": [
    "class AutoEncoder(nn.Module):\n",
    "    def __init__(self, encoder, decoder):\n",
    "        super().__init__()\n",
    "        self.encoder = encoder\n",
    "        self.decoder = decoder\n",
    "    \n",
    "    def forward(self, X):\n",
    "        X = self.encoder(X)\n",
    "        #print(X.shape)\n",
    "        return self.decoder(X)"
   ]
  },
  {
   "cell_type": "code",
   "execution_count": 297,
   "id": "91e540d3",
   "metadata": {},
   "outputs": [
    {
     "data": {
      "text/plain": [
       "'cuda'"
      ]
     },
     "execution_count": 297,
     "metadata": {},
     "output_type": "execute_result"
    }
   ],
   "source": [
    "device = \"cuda\" if torch.cuda.is_available() else \"cpu\"\n",
    "device"
   ]
  },
  {
   "cell_type": "code",
   "execution_count": 364,
   "id": "e41ccc0b",
   "metadata": {},
   "outputs": [
    {
     "data": {
      "text/plain": [
       "AutoEncoder(\n",
       "  (encoder): Encoder(\n",
       "    (seq1): Sequential(\n",
       "      (0): Conv2d(2, 16, kernel_size=(3, 3), stride=(2, 2), padding=(1, 1))\n",
       "      (1): ReLU()\n",
       "      (2): BatchNorm2d(16, eps=1e-05, momentum=0.1, affine=True, track_running_stats=True)\n",
       "    )\n",
       "    (seq2): Sequential(\n",
       "      (0): Conv2d(16, 32, kernel_size=(3, 3), stride=(2, 2), padding=(1, 1))\n",
       "      (1): ReLU()\n",
       "      (2): BatchNorm2d(32, eps=1e-05, momentum=0.1, affine=True, track_running_stats=True)\n",
       "    )\n",
       "    (seq3): Sequential(\n",
       "      (0): Conv2d(32, 64, kernel_size=(3, 3), stride=(2, 2), padding=(1, 1))\n",
       "      (1): ReLU()\n",
       "      (2): BatchNorm2d(64, eps=1e-05, momentum=0.1, affine=True, track_running_stats=True)\n",
       "    )\n",
       "    (seq4): Sequential(\n",
       "      (0): Conv2d(64, 128, kernel_size=(3, 3), stride=(2, 2), padding=(1, 1))\n",
       "      (1): ReLU()\n",
       "      (2): BatchNorm2d(128, eps=1e-05, momentum=0.1, affine=True, track_running_stats=True)\n",
       "    )\n",
       "    (flat): Flatten(start_dim=1, end_dim=-1)\n",
       "    (lin): Linear(in_features=23936, out_features=64, bias=True)\n",
       "  )\n",
       "  (decoder): Decoder(\n",
       "    (seq1): Sequential(\n",
       "      (0): Linear(in_features=64, out_features=23936, bias=True)\n",
       "      (1): ReLU()\n",
       "      (2): BatchNorm1d(23936, eps=1e-05, momentum=0.1, affine=True, track_running_stats=True)\n",
       "    )\n",
       "    (unflat): Unflatten(dim=1, unflattened_size=(128, 17, 11))\n",
       "    (seq2): Sequential(\n",
       "      (0): ConvTranspose2d(128, 64, kernel_size=(3, 3), stride=(2, 2), padding=(1, 1), output_padding=(0, 1))\n",
       "      (1): ReLU()\n",
       "      (2): BatchNorm2d(64, eps=1e-05, momentum=0.1, affine=True, track_running_stats=True)\n",
       "    )\n",
       "    (seq3): Sequential(\n",
       "      (0): ConvTranspose2d(64, 32, kernel_size=(3, 3), stride=(2, 2), padding=(1, 1), output_padding=(0, 1))\n",
       "      (1): ReLU()\n",
       "      (2): BatchNorm2d(32, eps=1e-05, momentum=0.1, affine=True, track_running_stats=True)\n",
       "    )\n",
       "    (seq4): Sequential(\n",
       "      (0): ConvTranspose2d(32, 16, kernel_size=(3, 3), stride=(2, 2), padding=(1, 1))\n",
       "      (1): ReLU()\n",
       "      (2): BatchNorm2d(16, eps=1e-05, momentum=0.1, affine=True, track_running_stats=True)\n",
       "    )\n",
       "    (conv): ConvTranspose2d(16, 2, kernel_size=(3, 3), stride=(2, 2), padding=(1, 1))\n",
       "  )\n",
       ")"
      ]
     },
     "execution_count": 364,
     "metadata": {},
     "output_type": "execute_result"
    }
   ],
   "source": [
    "DATA_SAMPLE_SIZE = 2*257*173\n",
    "LATENT_SHAPE = 64\n",
    "encoder = Encoder(input_size=DATA_SAMPLE_SIZE, output_size=LATENT_SHAPE)\n",
    "encoder.to(device)\n",
    "decoder = Decoder(input_size=LATENT_SHAPE, output_size=2)\n",
    "decoder.to(device)\n",
    "autoencoder = AutoEncoder(encoder=encoder, decoder=decoder)\n",
    "autoencoder.to(device)"
   ]
  },
  {
   "cell_type": "code",
   "execution_count": 365,
   "id": "8c430073",
   "metadata": {},
   "outputs": [
    {
     "name": "stdout",
     "output_type": "stream",
     "text": [
      "Number of trainable parameters: 3330850\n"
     ]
    }
   ],
   "source": [
    "model_total_params = sum(p.numel() for p in autoencoder.parameters() if p.requires_grad)\n",
    "print(f'Number of trainable parameters: {model_total_params}')"
   ]
  },
  {
   "cell_type": "markdown",
   "id": "b1dd24ad",
   "metadata": {},
   "source": [
    "# Loss-function and optimizer"
   ]
  },
  {
   "cell_type": "code",
   "execution_count": 366,
   "id": "3b6b3609",
   "metadata": {},
   "outputs": [],
   "source": [
    "criterion = nn.MSELoss()\n",
    "optimizer = torch.optim.AdamW(autoencoder.parameters(), lr=0.001)"
   ]
  },
  {
   "cell_type": "markdown",
   "id": "b9258362",
   "metadata": {},
   "source": [
    "# Train Loop"
   ]
  },
  {
   "cell_type": "code",
   "execution_count": 367,
   "id": "3d806308",
   "metadata": {},
   "outputs": [],
   "source": [
    "def train(model, criterion, optimizer,\n",
    "          train_dataloader, val_dataloader, num_epochs, prev_best_val_loss=None):\n",
    "    if prev_best_val_loss is None:\n",
    "        best_val_loss = torch.inf\n",
    "    else:\n",
    "        best_val_loss = prev_best_val_loss\n",
    "\n",
    "    log_template = \"\\nEpoch {ep:03d} train_loss: {t_loss:0.4f} \\\n",
    "    val_loss {v_loss:0.4f}\"\n",
    "\n",
    "    train_losses = np.zeros(num_epochs)\n",
    "    val_losses = np.zeros(num_epochs)\n",
    "    \n",
    "    with tqdm(desc=\"epoch\", total=num_epochs) as pbar_outer:\n",
    "        for i_epoch in range(num_epochs):\n",
    "            train_loss = 0\n",
    "            val_loss = 0\n",
    "\n",
    "            # train step\n",
    "            model.train()\n",
    "            for batch in tqdm(train_dataloader):\n",
    "                X = batch.to(device)\n",
    "\n",
    "                # model forward-pass\n",
    "                preds = autoencoder(X)\n",
    "\n",
    "                # model backward-pass\n",
    "                optimizer.zero_grad()\n",
    "                loss = criterion(preds, X)\n",
    "                loss.backward()\n",
    "                optimizer.step()\n",
    "\n",
    "                # save loss and accuracy\n",
    "                train_loss += loss.detach().cpu().numpy()\n",
    "\n",
    "            train_loss /= len(train_dataloader)\n",
    "            train_losses[i_epoch] = train_loss\n",
    "\n",
    "\n",
    "            # test step\n",
    "            model.eval()\n",
    "            for batch in val_dataloader:\n",
    "                X = batch.to(device)\n",
    "                #print(X.shape)\n",
    "                with torch.no_grad():\n",
    "                    # model forward-pass\n",
    "                    preds = autoencoder(X)\n",
    "                    #print(preds.shape)\n",
    "                    loss = criterion(preds, X)\n",
    "\n",
    "                    # save loss and accuracy\n",
    "                    val_loss += loss.detach().cpu().numpy()\n",
    "\n",
    "            val_loss /= len(val_dataloader)\n",
    "            val_losses[i_epoch] = val_loss\n",
    "            \n",
    "            if val_loss < best_val_loss:\n",
    "                best_val_loss = val_loss\n",
    "\n",
    "                torch.save({\n",
    "                            'epoch': i_epoch,\n",
    "                            'model_state_dict': model.state_dict(),\n",
    "                            'optimizer_state_dict': optimizer.state_dict(),\n",
    "                            'loss': val_loss,\n",
    "                            }, SAVE_DIR + 'best_checkpoint.pth')\n",
    "\n",
    "            pbar_outer.update(1)\n",
    "            tqdm.write(log_template.format(ep=i_epoch+1, t_loss=train_loss,\\\n",
    "                                           v_loss=val_loss))\n",
    "\n",
    "    return train_losses, val_losses"
   ]
  },
  {
   "cell_type": "code",
   "execution_count": 368,
   "id": "78724a79",
   "metadata": {},
   "outputs": [
    {
     "data": {
      "application/vnd.jupyter.widget-view+json": {
       "model_id": "35ba31ca3dc24402b6b39e2ad9a4bbb4",
       "version_major": 2,
       "version_minor": 0
      },
      "text/plain": [
       "epoch:   0%|          | 0/50 [00:00<?, ?it/s]"
      ]
     },
     "metadata": {},
     "output_type": "display_data"
    },
    {
     "data": {
      "application/vnd.jupyter.widget-view+json": {
       "model_id": "f862874ae10e46ab942146039ad74f64",
       "version_major": 2,
       "version_minor": 0
      },
      "text/plain": [
       "  0%|          | 0/6 [00:00<?, ?it/s]"
      ]
     },
     "metadata": {},
     "output_type": "display_data"
    },
    {
     "name": "stdout",
     "output_type": "stream",
     "text": [
      "\n",
      "Epoch 001 train_loss: 0.5864     val_loss 0.0163\n"
     ]
    },
    {
     "data": {
      "application/vnd.jupyter.widget-view+json": {
       "model_id": "dd901971179a4d84af9c8553ab41b543",
       "version_major": 2,
       "version_minor": 0
      },
      "text/plain": [
       "  0%|          | 0/6 [00:00<?, ?it/s]"
      ]
     },
     "metadata": {},
     "output_type": "display_data"
    },
    {
     "name": "stdout",
     "output_type": "stream",
     "text": [
      "\n",
      "Epoch 002 train_loss: 0.2567     val_loss 0.0174\n"
     ]
    },
    {
     "data": {
      "application/vnd.jupyter.widget-view+json": {
       "model_id": "2c9271ea14bc41a6972259fcc402eada",
       "version_major": 2,
       "version_minor": 0
      },
      "text/plain": [
       "  0%|          | 0/6 [00:00<?, ?it/s]"
      ]
     },
     "metadata": {},
     "output_type": "display_data"
    },
    {
     "name": "stdout",
     "output_type": "stream",
     "text": [
      "\n",
      "Epoch 003 train_loss: 0.1263     val_loss 0.0229\n"
     ]
    },
    {
     "data": {
      "application/vnd.jupyter.widget-view+json": {
       "model_id": "4ccf0588878a46e299e0f5352e4fee93",
       "version_major": 2,
       "version_minor": 0
      },
      "text/plain": [
       "  0%|          | 0/6 [00:00<?, ?it/s]"
      ]
     },
     "metadata": {},
     "output_type": "display_data"
    },
    {
     "name": "stdout",
     "output_type": "stream",
     "text": [
      "\n",
      "Epoch 004 train_loss: 0.0755     val_loss 0.0297\n"
     ]
    },
    {
     "data": {
      "application/vnd.jupyter.widget-view+json": {
       "model_id": "9e4d59dfe622482e828ee8c2ae004c9c",
       "version_major": 2,
       "version_minor": 0
      },
      "text/plain": [
       "  0%|          | 0/6 [00:00<?, ?it/s]"
      ]
     },
     "metadata": {},
     "output_type": "display_data"
    },
    {
     "name": "stdout",
     "output_type": "stream",
     "text": [
      "\n",
      "Epoch 005 train_loss: 0.0477     val_loss 0.0273\n"
     ]
    },
    {
     "data": {
      "application/vnd.jupyter.widget-view+json": {
       "model_id": "4aab83077fe04f57a0085390ed5feb9e",
       "version_major": 2,
       "version_minor": 0
      },
      "text/plain": [
       "  0%|          | 0/6 [00:00<?, ?it/s]"
      ]
     },
     "metadata": {},
     "output_type": "display_data"
    },
    {
     "name": "stdout",
     "output_type": "stream",
     "text": [
      "\n",
      "Epoch 006 train_loss: 0.0329     val_loss 0.0213\n"
     ]
    },
    {
     "data": {
      "application/vnd.jupyter.widget-view+json": {
       "model_id": "2ea91ba4cb8446bbbd0c5fbd7c630ca3",
       "version_major": 2,
       "version_minor": 0
      },
      "text/plain": [
       "  0%|          | 0/6 [00:00<?, ?it/s]"
      ]
     },
     "metadata": {},
     "output_type": "display_data"
    },
    {
     "name": "stdout",
     "output_type": "stream",
     "text": [
      "\n",
      "Epoch 007 train_loss: 0.0238     val_loss 0.0153\n"
     ]
    },
    {
     "data": {
      "application/vnd.jupyter.widget-view+json": {
       "model_id": "24728bc1ccf649059031f8a772c2b6d3",
       "version_major": 2,
       "version_minor": 0
      },
      "text/plain": [
       "  0%|          | 0/6 [00:00<?, ?it/s]"
      ]
     },
     "metadata": {},
     "output_type": "display_data"
    },
    {
     "name": "stdout",
     "output_type": "stream",
     "text": [
      "\n",
      "Epoch 008 train_loss: 0.0181     val_loss 0.0113\n"
     ]
    },
    {
     "data": {
      "application/vnd.jupyter.widget-view+json": {
       "model_id": "1dbd8f19b4f0415da6082f23888a5abf",
       "version_major": 2,
       "version_minor": 0
      },
      "text/plain": [
       "  0%|          | 0/6 [00:00<?, ?it/s]"
      ]
     },
     "metadata": {},
     "output_type": "display_data"
    },
    {
     "name": "stdout",
     "output_type": "stream",
     "text": [
      "\n",
      "Epoch 009 train_loss: 0.0141     val_loss 0.0087\n"
     ]
    },
    {
     "data": {
      "application/vnd.jupyter.widget-view+json": {
       "model_id": "9a0d1c05dbf64093a9661546f8182e9c",
       "version_major": 2,
       "version_minor": 0
      },
      "text/plain": [
       "  0%|          | 0/6 [00:00<?, ?it/s]"
      ]
     },
     "metadata": {},
     "output_type": "display_data"
    },
    {
     "name": "stdout",
     "output_type": "stream",
     "text": [
      "\n",
      "Epoch 010 train_loss: 0.0114     val_loss 0.0071\n"
     ]
    },
    {
     "data": {
      "application/vnd.jupyter.widget-view+json": {
       "model_id": "8a1d707b646d4dc1af7c4a4559056907",
       "version_major": 2,
       "version_minor": 0
      },
      "text/plain": [
       "  0%|          | 0/6 [00:00<?, ?it/s]"
      ]
     },
     "metadata": {},
     "output_type": "display_data"
    },
    {
     "name": "stdout",
     "output_type": "stream",
     "text": [
      "\n",
      "Epoch 011 train_loss: 0.0096     val_loss 0.0061\n"
     ]
    },
    {
     "data": {
      "application/vnd.jupyter.widget-view+json": {
       "model_id": "b6a4b6045475499dac087dd1015903bc",
       "version_major": 2,
       "version_minor": 0
      },
      "text/plain": [
       "  0%|          | 0/6 [00:00<?, ?it/s]"
      ]
     },
     "metadata": {},
     "output_type": "display_data"
    },
    {
     "name": "stdout",
     "output_type": "stream",
     "text": [
      "\n",
      "Epoch 012 train_loss: 0.0084     val_loss 0.0055\n"
     ]
    },
    {
     "data": {
      "application/vnd.jupyter.widget-view+json": {
       "model_id": "fec4eb96477041c788bcf80061ac5480",
       "version_major": 2,
       "version_minor": 0
      },
      "text/plain": [
       "  0%|          | 0/6 [00:00<?, ?it/s]"
      ]
     },
     "metadata": {},
     "output_type": "display_data"
    },
    {
     "name": "stdout",
     "output_type": "stream",
     "text": [
      "\n",
      "Epoch 013 train_loss: 0.0074     val_loss 0.0052\n"
     ]
    },
    {
     "data": {
      "application/vnd.jupyter.widget-view+json": {
       "model_id": "51803049f4a34a84a143b307999253aa",
       "version_major": 2,
       "version_minor": 0
      },
      "text/plain": [
       "  0%|          | 0/6 [00:00<?, ?it/s]"
      ]
     },
     "metadata": {},
     "output_type": "display_data"
    },
    {
     "name": "stdout",
     "output_type": "stream",
     "text": [
      "\n",
      "Epoch 014 train_loss: 0.0067     val_loss 0.0050\n"
     ]
    },
    {
     "data": {
      "application/vnd.jupyter.widget-view+json": {
       "model_id": "95153d3a342b4c8db54e6c5f3e9079fb",
       "version_major": 2,
       "version_minor": 0
      },
      "text/plain": [
       "  0%|          | 0/6 [00:00<?, ?it/s]"
      ]
     },
     "metadata": {},
     "output_type": "display_data"
    },
    {
     "name": "stdout",
     "output_type": "stream",
     "text": [
      "\n",
      "Epoch 015 train_loss: 0.0062     val_loss 0.0050\n"
     ]
    },
    {
     "data": {
      "application/vnd.jupyter.widget-view+json": {
       "model_id": "b01db7eb2e4948e786d895f9da56f7ea",
       "version_major": 2,
       "version_minor": 0
      },
      "text/plain": [
       "  0%|          | 0/6 [00:00<?, ?it/s]"
      ]
     },
     "metadata": {},
     "output_type": "display_data"
    },
    {
     "name": "stdout",
     "output_type": "stream",
     "text": [
      "\n",
      "Epoch 016 train_loss: 0.0058     val_loss 0.0050\n"
     ]
    },
    {
     "data": {
      "application/vnd.jupyter.widget-view+json": {
       "model_id": "c49171dca0164566bdfd3898cebca663",
       "version_major": 2,
       "version_minor": 0
      },
      "text/plain": [
       "  0%|          | 0/6 [00:00<?, ?it/s]"
      ]
     },
     "metadata": {},
     "output_type": "display_data"
    },
    {
     "name": "stdout",
     "output_type": "stream",
     "text": [
      "\n",
      "Epoch 017 train_loss: 0.0055     val_loss 0.0049\n"
     ]
    },
    {
     "data": {
      "application/vnd.jupyter.widget-view+json": {
       "model_id": "f351a85894434fdc94038deb4302f0f0",
       "version_major": 2,
       "version_minor": 0
      },
      "text/plain": [
       "  0%|          | 0/6 [00:00<?, ?it/s]"
      ]
     },
     "metadata": {},
     "output_type": "display_data"
    },
    {
     "name": "stdout",
     "output_type": "stream",
     "text": [
      "\n",
      "Epoch 018 train_loss: 0.0052     val_loss 0.0047\n"
     ]
    },
    {
     "data": {
      "application/vnd.jupyter.widget-view+json": {
       "model_id": "5d1e08f8ff8944ddad2e6e9348f7aabe",
       "version_major": 2,
       "version_minor": 0
      },
      "text/plain": [
       "  0%|          | 0/6 [00:00<?, ?it/s]"
      ]
     },
     "metadata": {},
     "output_type": "display_data"
    },
    {
     "name": "stdout",
     "output_type": "stream",
     "text": [
      "\n",
      "Epoch 019 train_loss: 0.0049     val_loss 0.0046\n"
     ]
    },
    {
     "data": {
      "application/vnd.jupyter.widget-view+json": {
       "model_id": "70b12d5666e345c1b40072c9eaf10b6b",
       "version_major": 2,
       "version_minor": 0
      },
      "text/plain": [
       "  0%|          | 0/6 [00:00<?, ?it/s]"
      ]
     },
     "metadata": {},
     "output_type": "display_data"
    },
    {
     "name": "stdout",
     "output_type": "stream",
     "text": [
      "\n",
      "Epoch 020 train_loss: 0.0047     val_loss 0.0045\n"
     ]
    },
    {
     "data": {
      "application/vnd.jupyter.widget-view+json": {
       "model_id": "85071b9e6df748d092242322fa27e4fb",
       "version_major": 2,
       "version_minor": 0
      },
      "text/plain": [
       "  0%|          | 0/6 [00:00<?, ?it/s]"
      ]
     },
     "metadata": {},
     "output_type": "display_data"
    },
    {
     "name": "stdout",
     "output_type": "stream",
     "text": [
      "\n",
      "Epoch 021 train_loss: 0.0046     val_loss 0.0044\n"
     ]
    },
    {
     "data": {
      "application/vnd.jupyter.widget-view+json": {
       "model_id": "c71f82889bf4468bbacac8e24d4630ad",
       "version_major": 2,
       "version_minor": 0
      },
      "text/plain": [
       "  0%|          | 0/6 [00:00<?, ?it/s]"
      ]
     },
     "metadata": {},
     "output_type": "display_data"
    },
    {
     "name": "stdout",
     "output_type": "stream",
     "text": [
      "\n",
      "Epoch 022 train_loss: 0.0044     val_loss 0.0043\n"
     ]
    },
    {
     "data": {
      "application/vnd.jupyter.widget-view+json": {
       "model_id": "a1e5e3dfad9d4f08b47ea71d250d5385",
       "version_major": 2,
       "version_minor": 0
      },
      "text/plain": [
       "  0%|          | 0/6 [00:00<?, ?it/s]"
      ]
     },
     "metadata": {},
     "output_type": "display_data"
    },
    {
     "name": "stdout",
     "output_type": "stream",
     "text": [
      "\n",
      "Epoch 023 train_loss: 0.0043     val_loss 0.0042\n"
     ]
    },
    {
     "data": {
      "application/vnd.jupyter.widget-view+json": {
       "model_id": "4d1a6cfb2c214199a0d537544ecbb409",
       "version_major": 2,
       "version_minor": 0
      },
      "text/plain": [
       "  0%|          | 0/6 [00:00<?, ?it/s]"
      ]
     },
     "metadata": {},
     "output_type": "display_data"
    },
    {
     "name": "stdout",
     "output_type": "stream",
     "text": [
      "\n",
      "Epoch 024 train_loss: 0.0042     val_loss 0.0042\n"
     ]
    },
    {
     "data": {
      "application/vnd.jupyter.widget-view+json": {
       "model_id": "a6dfb1a6585d42fe9b6b3ebe2b035027",
       "version_major": 2,
       "version_minor": 0
      },
      "text/plain": [
       "  0%|          | 0/6 [00:00<?, ?it/s]"
      ]
     },
     "metadata": {},
     "output_type": "display_data"
    },
    {
     "name": "stdout",
     "output_type": "stream",
     "text": [
      "\n",
      "Epoch 025 train_loss: 0.0041     val_loss 0.0041\n"
     ]
    },
    {
     "data": {
      "application/vnd.jupyter.widget-view+json": {
       "model_id": "b1c99847da9a411eb29261703c879178",
       "version_major": 2,
       "version_minor": 0
      },
      "text/plain": [
       "  0%|          | 0/6 [00:00<?, ?it/s]"
      ]
     },
     "metadata": {},
     "output_type": "display_data"
    },
    {
     "name": "stdout",
     "output_type": "stream",
     "text": [
      "\n",
      "Epoch 026 train_loss: 0.0040     val_loss 0.0040\n"
     ]
    },
    {
     "data": {
      "application/vnd.jupyter.widget-view+json": {
       "model_id": "c809b3de77a64e3fb5f4a1e1cbe37bb7",
       "version_major": 2,
       "version_minor": 0
      },
      "text/plain": [
       "  0%|          | 0/6 [00:00<?, ?it/s]"
      ]
     },
     "metadata": {},
     "output_type": "display_data"
    },
    {
     "name": "stdout",
     "output_type": "stream",
     "text": [
      "\n",
      "Epoch 027 train_loss: 0.0039     val_loss 0.0040\n"
     ]
    },
    {
     "data": {
      "application/vnd.jupyter.widget-view+json": {
       "model_id": "dc7146bb144244cfb4df97d9e2892029",
       "version_major": 2,
       "version_minor": 0
      },
      "text/plain": [
       "  0%|          | 0/6 [00:00<?, ?it/s]"
      ]
     },
     "metadata": {},
     "output_type": "display_data"
    },
    {
     "name": "stdout",
     "output_type": "stream",
     "text": [
      "\n",
      "Epoch 028 train_loss: 0.0039     val_loss 0.0039\n"
     ]
    },
    {
     "data": {
      "application/vnd.jupyter.widget-view+json": {
       "model_id": "f26a2a8a32ff42418fc41e6cb5dea9fc",
       "version_major": 2,
       "version_minor": 0
      },
      "text/plain": [
       "  0%|          | 0/6 [00:00<?, ?it/s]"
      ]
     },
     "metadata": {},
     "output_type": "display_data"
    },
    {
     "name": "stdout",
     "output_type": "stream",
     "text": [
      "\n",
      "Epoch 029 train_loss: 0.0038     val_loss 0.0038\n"
     ]
    },
    {
     "data": {
      "application/vnd.jupyter.widget-view+json": {
       "model_id": "1fc8c348483948e3a76b2eca81a7d73c",
       "version_major": 2,
       "version_minor": 0
      },
      "text/plain": [
       "  0%|          | 0/6 [00:00<?, ?it/s]"
      ]
     },
     "metadata": {},
     "output_type": "display_data"
    },
    {
     "name": "stdout",
     "output_type": "stream",
     "text": [
      "\n",
      "Epoch 030 train_loss: 0.0037     val_loss 0.0038\n"
     ]
    },
    {
     "data": {
      "application/vnd.jupyter.widget-view+json": {
       "model_id": "61fdbbd786db4b30bbad4db1ed371db6",
       "version_major": 2,
       "version_minor": 0
      },
      "text/plain": [
       "  0%|          | 0/6 [00:00<?, ?it/s]"
      ]
     },
     "metadata": {},
     "output_type": "display_data"
    },
    {
     "name": "stdout",
     "output_type": "stream",
     "text": [
      "\n",
      "Epoch 031 train_loss: 0.0037     val_loss 0.0038\n"
     ]
    },
    {
     "data": {
      "application/vnd.jupyter.widget-view+json": {
       "model_id": "39a47eae8fd44d658584be77f4856274",
       "version_major": 2,
       "version_minor": 0
      },
      "text/plain": [
       "  0%|          | 0/6 [00:00<?, ?it/s]"
      ]
     },
     "metadata": {},
     "output_type": "display_data"
    },
    {
     "name": "stdout",
     "output_type": "stream",
     "text": [
      "\n",
      "Epoch 032 train_loss: 0.0036     val_loss 0.0037\n"
     ]
    },
    {
     "data": {
      "application/vnd.jupyter.widget-view+json": {
       "model_id": "1bbe9d4c69414173a4853f822c5bddc6",
       "version_major": 2,
       "version_minor": 0
      },
      "text/plain": [
       "  0%|          | 0/6 [00:00<?, ?it/s]"
      ]
     },
     "metadata": {},
     "output_type": "display_data"
    },
    {
     "name": "stdout",
     "output_type": "stream",
     "text": [
      "\n",
      "Epoch 033 train_loss: 0.0036     val_loss 0.0037\n"
     ]
    },
    {
     "data": {
      "application/vnd.jupyter.widget-view+json": {
       "model_id": "76ce35e14c6f46239cb49ead8d7260f2",
       "version_major": 2,
       "version_minor": 0
      },
      "text/plain": [
       "  0%|          | 0/6 [00:00<?, ?it/s]"
      ]
     },
     "metadata": {},
     "output_type": "display_data"
    },
    {
     "name": "stdout",
     "output_type": "stream",
     "text": [
      "\n",
      "Epoch 034 train_loss: 0.0036     val_loss 0.0037\n"
     ]
    },
    {
     "data": {
      "application/vnd.jupyter.widget-view+json": {
       "model_id": "8ada6f414e9a49768ca8c48b096c4230",
       "version_major": 2,
       "version_minor": 0
      },
      "text/plain": [
       "  0%|          | 0/6 [00:00<?, ?it/s]"
      ]
     },
     "metadata": {},
     "output_type": "display_data"
    },
    {
     "name": "stdout",
     "output_type": "stream",
     "text": [
      "\n",
      "Epoch 035 train_loss: 0.0035     val_loss 0.0037\n"
     ]
    },
    {
     "data": {
      "application/vnd.jupyter.widget-view+json": {
       "model_id": "6009a8d903c34afe9e558b0b7061b608",
       "version_major": 2,
       "version_minor": 0
      },
      "text/plain": [
       "  0%|          | 0/6 [00:00<?, ?it/s]"
      ]
     },
     "metadata": {},
     "output_type": "display_data"
    },
    {
     "name": "stdout",
     "output_type": "stream",
     "text": [
      "\n",
      "Epoch 036 train_loss: 0.0035     val_loss 0.0037\n"
     ]
    },
    {
     "data": {
      "application/vnd.jupyter.widget-view+json": {
       "model_id": "67a1369c84a4406ea648dd61c6738bd4",
       "version_major": 2,
       "version_minor": 0
      },
      "text/plain": [
       "  0%|          | 0/6 [00:00<?, ?it/s]"
      ]
     },
     "metadata": {},
     "output_type": "display_data"
    },
    {
     "name": "stdout",
     "output_type": "stream",
     "text": [
      "\n",
      "Epoch 037 train_loss: 0.0035     val_loss 0.0036\n"
     ]
    },
    {
     "data": {
      "application/vnd.jupyter.widget-view+json": {
       "model_id": "d4c267deb46e4348a8bdbce7a3ef1b69",
       "version_major": 2,
       "version_minor": 0
      },
      "text/plain": [
       "  0%|          | 0/6 [00:00<?, ?it/s]"
      ]
     },
     "metadata": {},
     "output_type": "display_data"
    },
    {
     "name": "stdout",
     "output_type": "stream",
     "text": [
      "\n",
      "Epoch 038 train_loss: 0.0034     val_loss 0.0036\n"
     ]
    },
    {
     "data": {
      "application/vnd.jupyter.widget-view+json": {
       "model_id": "4511db3c33e4493abfa946c94901e186",
       "version_major": 2,
       "version_minor": 0
      },
      "text/plain": [
       "  0%|          | 0/6 [00:00<?, ?it/s]"
      ]
     },
     "metadata": {},
     "output_type": "display_data"
    },
    {
     "name": "stdout",
     "output_type": "stream",
     "text": [
      "\n",
      "Epoch 039 train_loss: 0.0034     val_loss 0.0036\n"
     ]
    },
    {
     "data": {
      "application/vnd.jupyter.widget-view+json": {
       "model_id": "de2a179c3d48481a94444f240e3b4d84",
       "version_major": 2,
       "version_minor": 0
      },
      "text/plain": [
       "  0%|          | 0/6 [00:00<?, ?it/s]"
      ]
     },
     "metadata": {},
     "output_type": "display_data"
    },
    {
     "name": "stdout",
     "output_type": "stream",
     "text": [
      "\n",
      "Epoch 040 train_loss: 0.0034     val_loss 0.0035\n"
     ]
    },
    {
     "data": {
      "application/vnd.jupyter.widget-view+json": {
       "model_id": "f888236536bd417eb0795af3d3b408d1",
       "version_major": 2,
       "version_minor": 0
      },
      "text/plain": [
       "  0%|          | 0/6 [00:00<?, ?it/s]"
      ]
     },
     "metadata": {},
     "output_type": "display_data"
    },
    {
     "name": "stdout",
     "output_type": "stream",
     "text": [
      "\n",
      "Epoch 041 train_loss: 0.0033     val_loss 0.0035\n"
     ]
    },
    {
     "data": {
      "application/vnd.jupyter.widget-view+json": {
       "model_id": "3fc15176c3e344b1869610061859d0ff",
       "version_major": 2,
       "version_minor": 0
      },
      "text/plain": [
       "  0%|          | 0/6 [00:00<?, ?it/s]"
      ]
     },
     "metadata": {},
     "output_type": "display_data"
    },
    {
     "name": "stdout",
     "output_type": "stream",
     "text": [
      "\n",
      "Epoch 042 train_loss: 0.0033     val_loss 0.0035\n"
     ]
    },
    {
     "data": {
      "application/vnd.jupyter.widget-view+json": {
       "model_id": "e038e81becd9481c9bf2546d6b4799e9",
       "version_major": 2,
       "version_minor": 0
      },
      "text/plain": [
       "  0%|          | 0/6 [00:00<?, ?it/s]"
      ]
     },
     "metadata": {},
     "output_type": "display_data"
    },
    {
     "name": "stdout",
     "output_type": "stream",
     "text": [
      "\n",
      "Epoch 043 train_loss: 0.0033     val_loss 0.0035\n"
     ]
    },
    {
     "data": {
      "application/vnd.jupyter.widget-view+json": {
       "model_id": "bb9bc7180b3242068c1b10bc29ef253a",
       "version_major": 2,
       "version_minor": 0
      },
      "text/plain": [
       "  0%|          | 0/6 [00:00<?, ?it/s]"
      ]
     },
     "metadata": {},
     "output_type": "display_data"
    },
    {
     "name": "stdout",
     "output_type": "stream",
     "text": [
      "\n",
      "Epoch 044 train_loss: 0.0033     val_loss 0.0035\n"
     ]
    },
    {
     "data": {
      "application/vnd.jupyter.widget-view+json": {
       "model_id": "488584199fc84f3598ad0380aff9e266",
       "version_major": 2,
       "version_minor": 0
      },
      "text/plain": [
       "  0%|          | 0/6 [00:00<?, ?it/s]"
      ]
     },
     "metadata": {},
     "output_type": "display_data"
    },
    {
     "name": "stdout",
     "output_type": "stream",
     "text": [
      "\n",
      "Epoch 045 train_loss: 0.0033     val_loss 0.0034\n"
     ]
    },
    {
     "data": {
      "application/vnd.jupyter.widget-view+json": {
       "model_id": "9748f69984e0483e8f955a50249bc2c0",
       "version_major": 2,
       "version_minor": 0
      },
      "text/plain": [
       "  0%|          | 0/6 [00:00<?, ?it/s]"
      ]
     },
     "metadata": {},
     "output_type": "display_data"
    },
    {
     "name": "stdout",
     "output_type": "stream",
     "text": [
      "\n",
      "Epoch 046 train_loss: 0.0032     val_loss 0.0034\n"
     ]
    },
    {
     "data": {
      "application/vnd.jupyter.widget-view+json": {
       "model_id": "aa09e1ccb307450faced2b390e2cca51",
       "version_major": 2,
       "version_minor": 0
      },
      "text/plain": [
       "  0%|          | 0/6 [00:00<?, ?it/s]"
      ]
     },
     "metadata": {},
     "output_type": "display_data"
    },
    {
     "name": "stdout",
     "output_type": "stream",
     "text": [
      "\n",
      "Epoch 047 train_loss: 0.0032     val_loss 0.0034\n"
     ]
    },
    {
     "data": {
      "application/vnd.jupyter.widget-view+json": {
       "model_id": "babcfbbae55a4704966f49126b647b46",
       "version_major": 2,
       "version_minor": 0
      },
      "text/plain": [
       "  0%|          | 0/6 [00:00<?, ?it/s]"
      ]
     },
     "metadata": {},
     "output_type": "display_data"
    },
    {
     "name": "stdout",
     "output_type": "stream",
     "text": [
      "\n",
      "Epoch 048 train_loss: 0.0032     val_loss 0.0034\n"
     ]
    },
    {
     "data": {
      "application/vnd.jupyter.widget-view+json": {
       "model_id": "e3d8fffb14bf4f2eae25fefbcf26311d",
       "version_major": 2,
       "version_minor": 0
      },
      "text/plain": [
       "  0%|          | 0/6 [00:00<?, ?it/s]"
      ]
     },
     "metadata": {},
     "output_type": "display_data"
    },
    {
     "name": "stdout",
     "output_type": "stream",
     "text": [
      "\n",
      "Epoch 049 train_loss: 0.0032     val_loss 0.0034\n"
     ]
    },
    {
     "data": {
      "application/vnd.jupyter.widget-view+json": {
       "model_id": "3a7ebb9eab094a9e9babcfb065940b2d",
       "version_major": 2,
       "version_minor": 0
      },
      "text/plain": [
       "  0%|          | 0/6 [00:00<?, ?it/s]"
      ]
     },
     "metadata": {},
     "output_type": "display_data"
    },
    {
     "name": "stdout",
     "output_type": "stream",
     "text": [
      "\n",
      "Epoch 050 train_loss: 0.0032     val_loss 0.0034\n"
     ]
    }
   ],
   "source": [
    "train_losses, val_losses = train(model=autoencoder, criterion=criterion, optimizer=optimizer,\n",
    "                                train_dataloader=train_dataloader, val_dataloader=val_dataloader, num_epochs=50)"
   ]
  },
  {
   "cell_type": "code",
   "execution_count": 369,
   "id": "66677827",
   "metadata": {},
   "outputs": [
    {
     "data": {
      "image/png": "[encoded data removed]",
      "text/plain": [
       "<Figure size 640x480 with 1 Axes>"
      ]
     },
     "metadata": {},
     "output_type": "display_data"
    }
   ],
   "source": [
    "\n",
    "\n",
    "plt.plot(np.arange(train_losses.shape[0]), train_losses, label='train_loss')\n",
    "plt.plot(np.arange(val_losses.shape[0]), val_losses, label='test_loss')\n",
    "plt.xticks(np.arange(0, train_losses.shape[0], 6))\n",
    "plt.xlabel('num_epoch')\n",
    "plt.ylabel('loss')\n",
    "plt.legend()\n",
    "plt.grid()\n",
    "plt.show()"
   ]
  },
  {
   "cell_type": "markdown",
   "id": "d5740ca5",
   "metadata": {},
   "source": [
    "# Audio Reconstruction"
   ]
  },
  {
   "cell_type": "code",
   "execution_count": 372,
   "id": "4cf518f0",
   "metadata": {},
   "outputs": [
    {
     "data": {
      "text/plain": [
       "[436, 437, 724, 270, 517]"
      ]
     },
     "execution_count": 372,
     "metadata": {},
     "output_type": "execute_result"
    }
   ],
   "source": [
    "from random import randint\n",
    "test = [randint(0, 972) for _ in range(5)]\n",
    "test"
   ]
  },
  {
   "cell_type": "code",
   "execution_count": 373,
   "id": "1aaa92b6",
   "metadata": {},
   "outputs": [],
   "source": [
    "def PredictSample(input_data):\n",
    "    with torch.no_grad():\n",
    "        model_input = torch.tensor(input_data).type(torch.FloatTensor).unsqueeze(0).to(device)\n",
    "        pred = autoencoder(model_input).squeeze().cpu().numpy()\n",
    "        print(pred.shape)\n",
    "    audio = ReconstructSignal(spec=pred, hop_size=HOP_SIZE, sig=SIGMA)\n",
    "    return audio"
   ]
  },
  {
   "cell_type": "code",
   "execution_count": 374,
   "id": "731f2eec",
   "metadata": {},
   "outputs": [
    {
     "name": "stdout",
     "output_type": "stream",
     "text": [
      "(2, 257, 173)\n"
     ]
    },
    {
     "data": {
      "text/plain": [
       "(44032,)"
      ]
     },
     "execution_count": 374,
     "metadata": {},
     "output_type": "execute_result"
    }
   ],
   "source": [
    "audio = PredictSample(data[test[0]])\n",
    "audio.shape"
   ]
  },
  {
   "cell_type": "code",
   "execution_count": 375,
   "id": "23e3f0f2",
   "metadata": {},
   "outputs": [],
   "source": [
    "import IPython.display as ipd"
   ]
  },
  {
   "cell_type": "code",
   "execution_count": 376,
   "id": "447ac5b7",
   "metadata": {},
   "outputs": [
    {
     "name": "stdout",
     "output_type": "stream",
     "text": [
      "(2, 257, 173)\n",
      "(2, 257, 173)\n",
      "(2, 257, 173)\n",
      "(2, 257, 173)\n",
      "(2, 257, 173)\n"
     ]
    }
   ],
   "source": [
    "reconstructed_audio = []\n",
    "original_audio = []\n",
    "for num in test:\n",
    "    r_audio = PredictSample(data[num])\n",
    "    o_audio = ReconstructSignal(spec=data[num], hop_size=HOP_SIZE, sig=SIGMA)\n",
    "    reconstructed_audio.append(r_audio)\n",
    "    original_audio.append(o_audio)\n"
   ]
  },
  {
   "cell_type": "code",
   "execution_count": 377,
   "id": "f74b6bda",
   "metadata": {},
   "outputs": [
    {
     "data": {
      "text/html": [
       "\n",
       "                <audio  controls=\"controls\" >\n",
       "                    <source src=\"data:audio/wav;base64,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\" type=\"audio/wav\" />\n",
       "                    Your browser does not support the audio element.\n",
       "                </audio>\n",
       "              "
      ],
      "text/plain": [
       "<IPython.lib.display.Audio object>"
      ]
     },
     "execution_count": 377,
     "metadata": {},
     "output_type": "execute_result"
    }
   ],
   "source": [
    "ipd.Audio(original_audio[1], rate=SAMPLE_RATE)"
   ]
  },
  {
   "cell_type": "code",
   "execution_count": 378,
   "id": "17067bff",
   "metadata": {},
   "outputs": [
    {
     "data": {
      "text/html": [
       "\n",
       "                <audio  controls=\"controls\" >\n",
       "                    <source src=\"data:audio/wav;base64,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\" type=\"audio/wav\" />\n",
       "                    Your browser does not support the audio element.\n",
       "                </audio>\n",
       "              "
      ],
      "text/plain": [
       "<IPython.lib.display.Audio object>"
      ]
     },
     "execution_count": 378,
     "metadata": {},
     "output_type": "execute_result"
    }
   ],
   "source": [
    "ipd.Audio(reconstructed_audio[1], rate=SAMPLE_RATE)"
   ]
  },
  {
   "cell_type": "code",
   "execution_count": null,
   "id": "c284646d",
   "metadata": {},
   "outputs": [],
   "source": []
  }
 ],
 "metadata": {
  "kernelspec": {
   "display_name": "Python 3 (ipykernel)",
   "language": "python",
   "name": "python3"
  },
  "language_info": {
   "codemirror_mode": {
    "name": "ipython",
    "version": 3
   },
   "file_extension": ".py",
   "mimetype": "text/x-python",
   "name": "python",
   "nbconvert_exporter": "python",
   "pygments_lexer": "ipython3",
   "version": "3.11.4"
  }
 },
 "nbformat": 4,
 "nbformat_minor": 5
}
